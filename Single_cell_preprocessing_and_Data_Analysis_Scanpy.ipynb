{
 "cells": [
  {
   "cell_type": "code",
   "execution_count": 1,
   "id": "b092d66d-4c7b-4801-9442-860686402913",
   "metadata": {},
   "outputs": [],
   "source": [
    "import os\n",
    "import scanpy as sc\n",
    "import anndata as ad\n",
    "import pandas as pd\n",
    "import numpy as np"
   ]
  },
  {
   "cell_type": "markdown",
   "id": "6f9b9a90-6960-45fe-956e-f5e01d4bdb43",
   "metadata": {},
   "source": [
    "# Reading samples"
   ]
  },
  {
   "cell_type": "code",
   "execution_count": null,
   "id": "ecfb6396-3cba-455c-aeda-7087277ccba0",
   "metadata": {},
   "outputs": [],
   "source": [
    "path_to_raw_files = \"/path/to/data/\"\n",
    "\n",
    "files = os.listdir(path_to_raw_files)\n",
    "\n",
    "samples_dict = {}\n",
    "for file in files:\n",
    "    file_path = os.path.join(path_to_raw_files, file)\n",
    "    \n",
    "    print(f\"Reading sample: {file}\")\n",
    "    # Read 10X data\n",
    "    adata = sc.read_10x_mtx(file_path, var_names=\"gene_symbols\", cache=True)\n",
    "    \n",
    "    print(f\"Filtering sample: {file}\")\n",
    "    # Equivalent to min.features = 400 in Seurat (genes per cell)\n",
    "    sc.pp.filter_cells(adata, min_genes=400)\n",
    "    \n",
    "    print(f\"Renaming cells for sample: {file}\")\n",
    "    # Rename cells with sample prefix\n",
    "    adata.obs_names = [f\"{file}_{cell}\" for cell in adata.obs_names]\n",
    "    adata.obs[\"sample\"] = file  # keep sample info in metadata\n",
    "    \n",
    "    print(f\"Finished sample: {file}\\n\")\n",
    "    \n",
    "    samples_dict[file] = adata"
   ]
  },
  {
   "cell_type": "markdown",
   "id": "be2b2da4-082b-459b-baf5-1a7c0e9f6765",
   "metadata": {},
   "source": [
    "# Adding QC metrics"
   ]
  },
  {
   "cell_type": "code",
   "execution_count": null,
   "id": "9bad4caa-3dfb-4a13-9e46-95c0082e5bf3",
   "metadata": {},
   "outputs": [],
   "source": [
    "for key, adata in samples_dict.items():\n",
    "    sc.pp.calculate_qc_metrics(\n",
    "        adata, \n",
    "        percent_top=None, \n",
    "        log1p=False, \n",
    "        inplace=True)"
   ]
  },
  {
   "cell_type": "markdown",
   "id": "7f73705e-3c9a-4d16-bc39-aae453cca6fa",
   "metadata": {},
   "source": [
    "# QC plots"
   ]
  },
  {
   "cell_type": "markdown",
   "id": "676958b9-e92e-49a4-89fc-cf11e63ef81d",
   "metadata": {},
   "source": [
    "## Violin plots"
   ]
  },
  {
   "cell_type": "code",
   "execution_count": null,
   "id": "21f31fc3-0497-4e35-84be-b8395fab099a",
   "metadata": {},
   "outputs": [],
   "source": [
    "for key, adata in samples_dict.items():\n",
    "    print(f\"QC plots for {key}\")\n",
    "\n",
    "    # Violin plots (similar to Seurat VlnPlot)\n",
    "    sc.pl.violin(\n",
    "        adata,\n",
    "        keys=[\"total_counts\", \"n_genes\", \"percent_mito\", \"percent_ribo\"], groupby='sample',\n",
    "        jitter=0.4,\n",
    "        multi_panel=True\n",
    ")"
   ]
  },
  {
   "cell_type": "markdown",
   "id": "1999c127-f681-42c3-acb6-bd09ceafc064",
   "metadata": {},
   "source": [
    "## Scatter plots"
   ]
  },
  {
   "cell_type": "code",
   "execution_count": null,
   "id": "f0bd12e4-ee2a-40a9-9e30-57e7738a27b6",
   "metadata": {},
   "outputs": [],
   "source": [
    "for key, adata in samples_dict.items():\n",
    "    print(f\"QC plots for {key}\")\n",
    "\n",
    "    # Scatter plots (similar to FeatureScatter)\n",
    "    sc.pl.scatter(adata, x=\"total_counts\", y=\"n_genes\")\n",
    "    # sc.pl.scatter(adata, x=\"total_counts\", y=\"percent_mito\")\n",
    "    # sc.pl.scatter(adata, x=\"total_counts\", y=\"percent_ribo\")"
   ]
  },
  {
   "cell_type": "code",
   "execution_count": null,
   "id": "4710ae8f-a83f-436a-9dae-50309ff04fc2",
   "metadata": {},
   "outputs": [],
   "source": [
    "# Unlisting samples\n",
    "for key, adata in samples_dict.items():\n",
    "    globals()[key] = adata  "
   ]
  },
  {
   "cell_type": "code",
   "execution_count": null,
   "id": "8f8f42a5-b216-4e95-be99-2cf7dbfc5fe8",
   "metadata": {},
   "outputs": [],
   "source": [
    "sample1 = sample1[(sample1.obs[\"total_counts\"] < 7000) & (sample1.obs[\"n_genes_by_counts\"] < 8000)]\n",
    "sample2 = sample2[(sample2.obs[\"total_counts\"] < 5000) & (sample2.obs[\"n_genes_by_counts\"] < 6000)]\n",
    "# .."
   ]
  },
  {
   "cell_type": "markdown",
   "id": "606c5158-1a8d-4b77-9a74-a2d4098ae11c",
   "metadata": {},
   "source": [
    "# Filtering by linear model"
   ]
  },
  {
   "cell_type": "code",
   "execution_count": null,
   "id": "71bbe5fb-f970-4b93-9f57-46978261c442",
   "metadata": {},
   "outputs": [],
   "source": [
    "import numpy as np\n",
    "import matplotlib.pyplot as plt\n",
    "import statsmodels.api as sm\n",
    "\n",
    "def filter_plot_original(adata, sample_name, threshold=-0.5):\n",
    "    # log-transform variables\n",
    "    log_counts = np.log1p(adata.obs[\"total_counts\"])\n",
    "    log_genes = np.log1p(adata.obs[\"n_genes_by_counts\"])\n",
    "    \n",
    "    # linear model: log(genes) ~ log(counts)\n",
    "    X = sm.add_constant(log_counts)  # add intercept\n",
    "    model = sm.OLS(log_genes, X).fit()\n",
    "    \n",
    "    # residuals\n",
    "    residuals = model.resid\n",
    "    \n",
    "    # identify cells to keep\n",
    "    to_keep = residuals >= threshold\n",
    "    \n",
    "    # plotting\n",
    "    plt.figure(figsize=(6, 5))\n",
    "    plt.scatter(log_counts, log_genes, c=\"grey\", s=10, label=\"All cells\")\n",
    "    plt.plot(log_counts, model.predict(X), color=\"red\", linewidth=2, label=\"Fit\")\n",
    "    plt.scatter(log_counts[~to_keep], log_genes[~to_keep], \n",
    "                c=\"blue\", s=10, label=\"Filtered\")\n",
    "    plt.xlabel(\"log(total_counts)\")\n",
    "    plt.ylabel(\"log(n_genes_by_counts)\")\n",
    "    plt.title(sample_name)\n",
    "    plt.legend()\n",
    "    plt.show()\n",
    "    \n",
    "    if np.sum(to_keep) == 0:\n",
    "        print(f\"No cells retained after filtering in: {sample_name}\")\n",
    "        return adata  # return unfiltered object\n",
    "    \n",
    "    # subset AnnData to retained cells\n",
    "    adata = adata[to_keep, :].copy()\n",
    "    return adata"
   ]
  },
  {
   "cell_type": "code",
   "execution_count": null,
   "id": "a22ae72c-ba1c-40fa-9403-4b74671dcb9c",
   "metadata": {},
   "outputs": [],
   "source": [
    "# Apply to all samples\n",
    "for key in samples_dict:\n",
    "    samples_dict[key] = filter_plot_original(samples_dict[key], sample_name=key, threshold=-0.5)"
   ]
  },
  {
   "cell_type": "markdown",
   "id": "80d40648-35ee-4a2e-970f-6d1482c781b4",
   "metadata": {},
   "source": [
    "# Removing doublets (Scrublet)"
   ]
  },
  {
   "cell_type": "code",
   "execution_count": null,
   "id": "7739c0b5-877a-42df-93d5-bbada357252a",
   "metadata": {},
   "outputs": [],
   "source": [
    "import scrublet as scr\n",
    "import numpy as np\n",
    "\n",
    "for key, adata in samples_dict.items():\n",
    "    print(f\"Running Scrublet on {key}...\")\n",
    "    \n",
    "    # Scrublet expects dense numpy array\n",
    "    counts_matrix = adata.X.toarray() if not isinstance(adata.X, np.ndarray) else adata.X\n",
    "    \n",
    "    scrub = scr.Scrublet(counts_matrix)\n",
    "    doublet_scores, predicted_doublets = scrub.scrub_doublets()\n",
    "    \n",
    "    # Save results in AnnData\n",
    "    adata.obs[\"doublet_score\"] = doublet_scores\n",
    "    adata.obs[\"predicted_doublet\"] = predicted_doublets\n",
    "    \n",
    "    samples_dict[key] = adata"
   ]
  },
  {
   "cell_type": "code",
   "execution_count": null,
   "id": "8d61a34e-8933-4ebf-8376-2a29b1eb3821",
   "metadata": {},
   "outputs": [],
   "source": [
    "# Or \n",
    "sc.pp.scrublet(adata, batch_key=\"sample\")"
   ]
  },
  {
   "cell_type": "code",
   "execution_count": null,
   "id": "6bab6085-0365-4bcb-bed3-2942761cca5b",
   "metadata": {},
   "outputs": [],
   "source": [
    "# Inpsecting doublet score distribution (preferred to set your own threshold rather than the automatic thresholding by scrublet)\n",
    "for key, adata in samples_dict.items():\n",
    "    plt.hist(adata.obs[\"doublet_score\"], bins=50)\n",
    "    plt.title(f\"{key} doublet score distribution\")\n",
    "    plt.xlabel(\"Doublet score\")\n",
    "    plt.ylabel(\"Cell count\")\n",
    "    plt.show()"
   ]
  },
  {
   "cell_type": "markdown",
   "id": "606952b0-35e3-4724-8f3e-33a7dbd2ecbd",
   "metadata": {},
   "source": [
    "## Filter out doublets"
   ]
  },
  {
   "cell_type": "code",
   "execution_count": null,
   "id": "cabb9ecd-955e-4ec9-86bc-20bad5fcd94d",
   "metadata": {},
   "outputs": [],
   "source": [
    "# Define thresholds per sample\n",
    "thresholds = {\n",
    "    \"sample1\": 0.25,\n",
    "    \"sample2\": 0.30,\n",
    "    \"sample3\": 0.22,\n",
    "    # add more sample-specific thresholds...\n",
    "}"
   ]
  },
  {
   "cell_type": "code",
   "execution_count": null,
   "id": "f642b48c-dea2-467f-91e2-73be9c7becf9",
   "metadata": {},
   "outputs": [],
   "source": [
    "for key, adata in samples_dict.items():\n",
    "    thr = thresholds.get(key, None)  # None if threshold not defined\n",
    "    if thr is not None:\n",
    "        samples_dict[key] = adata[adata.obs[\"doublet_score\"] < thr, :].copy()\n",
    "        print(f\"{key}: kept {samples_dict[key].n_obs} cells after doublet filtering (threshold={thr})\")\n",
    "    else:\n",
    "        print(f\"{key}: no threshold specified, skipping\")"
   ]
  },
  {
   "cell_type": "markdown",
   "id": "62407d50-1a63-4f3e-aa43-1e027757bd6b",
   "metadata": {},
   "source": [
    "# Merging samples"
   ]
  },
  {
   "cell_type": "code",
   "execution_count": null,
   "id": "50a60be5-e58c-47b4-a93a-61b6b66bf9b9",
   "metadata": {},
   "outputs": [],
   "source": [
    "adata = ad.concat(\n",
    "    samples_dict.values(),\n",
    "    label=\"sample\",                # adds a \"sample\" column in obs\n",
    "    keys=samples_dict.keys(),      # sample names as labels\n",
    "    join=\"outer\",                  # keep all genes (outer join)\n",
    "    index_unique=None              # keep cell barcodes as-is\n",
    ")"
   ]
  },
  {
   "cell_type": "code",
   "execution_count": null,
   "id": "3499168f-4424-43bf-9d84-a43b435087b7",
   "metadata": {},
   "outputs": [],
   "source": [
    "adata"
   ]
  },
  {
   "cell_type": "markdown",
   "id": "34406cbf-d161-46ba-a6d9-0ad0e6719d68",
   "metadata": {},
   "source": [
    "# Adding metadata information"
   ]
  },
  {
   "cell_type": "code",
   "execution_count": null,
   "id": "11eb57bd-1942-4834-b335-1fde1b0d277e",
   "metadata": {},
   "outputs": [],
   "source": [
    "# Select columns\n",
    "adata.obs = adata.obs[['sample', 'n_counts', 'n_genes', 'percent_mito']]\n",
    "\n",
    "# Add \"Condition\" column based on \"existing column\"\n",
    "adata.obs['Condition'] = adata.obs['orig.ident']\n",
    "\n",
    "# Replace Condition values based on orig.ident\n",
    "adata.obs['Condition'] = adata.obs['Condition'].replace(\n",
    "    {'sample1': 'condition1', \n",
    "     'sample2': 'condition2' \n",
    "     }\n",
    ")\n",
    "\n",
    "## Add a column with a certain value for each observation\n",
    "adata.obs[\"column\"] = \"value\"\n",
    "\n",
    "# Replace based on regex (match) \n",
    "adata.obs[\"column\"] = adata.obs[\"column\"].astype(str) # Should be string first\n",
    "adata.obs.loc[adata.obs[\"column\"].str.match(r\"^N\"), \"column\"] = \"Normal\"\n",
    "adata.obs.loc[adata.obs[\"column\"].str.match(r\"^C\"), \"column\"] = \"Cancer\"\n",
    "\n",
    "# Replace based on regex (containing)\n",
    "adata.obs['age'] = adata.obs['column'].astype(str)\n",
    "adata.obs.loc[adata.obs[\"column\"].str.contains(r\"sample1\"), \"age\"] = \"39\"\n",
    "\n",
    "# Add BMI \n",
    "adata.obs['BMI'] = adata.obs['sample']\n",
    "adata.obs['BMI'] = adata.obs['BMI'].replace(to_replace=r'sample1', value='30', regex=True)\n",
    "\n",
    "# Remove a column\n",
    "adata.obs = adata.obs.drop(columns=[\"column\"])\n",
    "## Or\n",
    "del adata.obs[\"column\"]\n",
    "\n",
    "# Concatenating\n",
    "adata.obs['Study_chemistry'] = adata.obs['column1'] + '_' + adata.obs['column2']\n",
    "\n",
    "# Rename columns\n",
    "adata.obs = adata.obs.rename(columns={\"old_name\": \"new_name\"})\n",
    "\n",
    "# Separate a column into multiple based on a separator \n",
    "adata.obs[[\"column1\", \"column2\"]] = adata.obs[\"col\"].str.split(\"_\", expand=True)\n",
    "\n",
    "# Adding column based on a condition\n",
    "adata.obs[\"group\"] = np.where(adata.obs[\"BMI\"].astype(int) > 25, \"overweight\", \"normal\")\n",
    "\n",
    "# Filtering columns (subset)\n",
    "# adata = adata[adata.obs[\"Condition\"] == \"condition1\", :]\n",
    "\n",
    "# Change a column into categorical\n",
    "adata.obs['column'] = adata.obs['column'].astype('category') \n",
    "# could also use str for string, float for numbers, bool for boolean, \n",
    "\n",
    "# show categories of a column \n",
    "print(adata.obs['column'].cat.categories)\n",
    "\n",
    "# Rename a column directly from adata\n",
    "adata.obs.columns = adata.obs.columns.str.replace('_signature1$', '_signature')"
   ]
  },
  {
   "cell_type": "code",
   "execution_count": null,
   "id": "d44c9ec6-2011-441f-8797-b27c47608585",
   "metadata": {},
   "outputs": [],
   "source": [
    "# Show updated DataFrame\n",
    "adata.obs.head()"
   ]
  },
  {
   "cell_type": "code",
   "execution_count": null,
   "id": "0cf5e0c3-1d6f-4909-b25c-bada37a0826a",
   "metadata": {},
   "outputs": [],
   "source": [
    "# Saving merged object\n",
    "adata.write('adata_merged_filtered.h5ad')"
   ]
  },
  {
   "cell_type": "markdown",
   "id": "f528caef-a3ec-48dd-a1b6-605d4c987195",
   "metadata": {},
   "source": [
    "# Data Analysis"
   ]
  },
  {
   "cell_type": "code",
   "execution_count": null,
   "id": "bf804c65-0aeb-4d21-b7be-b53ba33082fd",
   "metadata": {},
   "outputs": [],
   "source": [
    "## Reading object\n",
    "adata = sc.read_h5ad('adata.h5ad')\n",
    "adata"
   ]
  },
  {
   "cell_type": "code",
   "execution_count": null,
   "id": "0c614d80-cef4-46da-889d-cfd3f5eb580e",
   "metadata": {},
   "outputs": [],
   "source": [
    "# Subsettig clusters to work with (optional)\n",
    "clusters_to_keep = [\"1\", \"2\", \"3\", \"4\"]\n",
    "adata.obs['RNA_snn_res.0.1'] = adata.obs['RNA_snn_res.0.1'].astype(str)\n",
    "adata = adata[adata.obs['RNA_snn_res.0.1'].isin(clusters_to_keep)].copy()\n",
    "adata"
   ]
  },
  {
   "cell_type": "markdown",
   "id": "969135f9-00a8-4fae-bd4b-ca874fa07b5c",
   "metadata": {},
   "source": [
    "## Dropping empty levels after subset (if performed)"
   ]
  },
  {
   "cell_type": "code",
   "execution_count": null,
   "id": "de18c95f-2ee1-4f78-aaac-9c0f720220a4",
   "metadata": {},
   "outputs": [],
   "source": [
    "# One column\n",
    "adata.obs['column'] = adata.obs['column'].cat.remove_unused_categories()"
   ]
  },
  {
   "cell_type": "code",
   "execution_count": null,
   "id": "91c64572-6bd4-4319-a4fb-6eaeeb1c4741",
   "metadata": {},
   "outputs": [],
   "source": [
    "### Multiple columns\n",
    "for col in adata.obs.select_dtypes(['category']).columns:\n",
    "    adata.obs[col] = adata.obs[col].cat.remove_unused_categories()"
   ]
  },
  {
   "cell_type": "markdown",
   "id": "81009fc2-27f0-4d98-866d-d1ea01fa148a",
   "metadata": {},
   "source": [
    "## Normalization"
   ]
  },
  {
   "cell_type": "code",
   "execution_count": null,
   "id": "44c98959-b33f-4368-989b-c0c618e1e596",
   "metadata": {},
   "outputs": [],
   "source": [
    "# Saving raw count data\n",
    "adata.layers[\"counts\"] = adata.X.copy()"
   ]
  },
  {
   "cell_type": "code",
   "execution_count": null,
   "id": "8dac1e57-191a-4f73-bfd7-6488fc261c7b",
   "metadata": {},
   "outputs": [],
   "source": [
    "# Normalizing to median total counts\n",
    "sc.pp.normalize_total(adata, target_sum=1e+06)\n",
    "\n",
    "# Logarithmize the data\n",
    "sc.pp.log1p(adata)"
   ]
  },
  {
   "cell_type": "markdown",
   "id": "3bc5267e-edc9-4252-a70c-38f27e825900",
   "metadata": {},
   "source": [
    "## Highly variable gene selection"
   ]
  },
  {
   "cell_type": "code",
   "execution_count": null,
   "id": "79bd1bed-f09b-4ee9-ab00-e45875fe9e45",
   "metadata": {},
   "outputs": [],
   "source": [
    "sc.pp.highly_variable_genes(adata, n_top_genes=2000, batch_key=\"sample\") # flavor='seurat_v3')"
   ]
  },
  {
   "cell_type": "markdown",
   "id": "35ec95b0-65e3-4e23-b2ba-1536eb3895bb",
   "metadata": {},
   "source": [
    "# Plotting highly variable genes"
   ]
  },
  {
   "cell_type": "code",
   "execution_count": null,
   "id": "0a360c83-19e5-401f-a0c8-73ef99491a8f",
   "metadata": {},
   "outputs": [],
   "source": [
    "sc.pl.highly_variable_genes(adata)"
   ]
  },
  {
   "cell_type": "markdown",
   "id": "9c7f79cc-0720-45b3-8982-364064ed92fa",
   "metadata": {},
   "source": [
    "## Principle component analysis"
   ]
  },
  {
   "cell_type": "code",
   "execution_count": null,
   "id": "a7bec693-a2d9-449c-b6f2-0c1fa5f7a90d",
   "metadata": {},
   "outputs": [],
   "source": [
    "sc.tl.pca(adata) #  n_comps=50, svd_solver='arpack'"
   ]
  },
  {
   "cell_type": "code",
   "execution_count": null,
   "id": "4bc7ae38-b67d-4116-93e1-273c5ab3b872",
   "metadata": {},
   "outputs": [],
   "source": [
    "sc.pl.pca_variance_ratio(adata, n_pcs=50, log=True)"
   ]
  },
  {
   "cell_type": "markdown",
   "id": "bc8c9762-b3b5-4df9-aa61-4c7f3a80f7ca",
   "metadata": {},
   "source": [
    "You can also plot the principal components to see if there are any potentially undesired features (e.g. batch, QC metrics) driving signifigant variation in this dataset. In this case, there isn’t anything too alarming, but it’s a good idea to explore this."
   ]
  },
  {
   "cell_type": "code",
   "execution_count": null,
   "id": "b7ead5ce-dea5-4112-a326-affcad295324",
   "metadata": {},
   "outputs": [],
   "source": [
    "sc.pl.pca(\n",
    "    adata,\n",
    "    color=[\"sample\", \"sample\", \"pct_counts_mt\", \"pct_counts_mt\"],\n",
    "    dimensions=[(0, 1), (2, 3), (0, 1), (2, 3)],\n",
    "    ncols=2,\n",
    "    size=2,\n",
    ")"
   ]
  },
  {
   "cell_type": "markdown",
   "id": "4d849853-8e3b-445a-b524-800f626c66e1",
   "metadata": {},
   "source": [
    "## Nearest neighbor graph construction and visualization"
   ]
  },
  {
   "cell_type": "code",
   "execution_count": null,
   "id": "be1cd16e-471e-465a-b287-2bdaa99af37c",
   "metadata": {},
   "outputs": [],
   "source": [
    "sc.pp.neighbors(adata)"
   ]
  },
  {
   "cell_type": "markdown",
   "id": "77f74b2f-8cf2-4cf7-8854-904b2d7753a8",
   "metadata": {},
   "source": [
    "## UMAP"
   ]
  },
  {
   "cell_type": "code",
   "execution_count": null,
   "id": "f952f6c1-2268-40a2-a245-10480172b1af",
   "metadata": {},
   "outputs": [],
   "source": [
    "sc.tl.umap(adata)"
   ]
  },
  {
   "cell_type": "code",
   "execution_count": null,
   "id": "61f77b25-956d-4cab-b44d-d6a03171ac5a",
   "metadata": {},
   "outputs": [],
   "source": [
    "sc.pl.umap(\n",
    "    adata,\n",
    "    color=\"sample\", # or [\"column1\", \"column2\", \"column3\"]\n",
    "    # Setting a smaller point size to get prevent overlap\n",
    "    size=2,\n",
    ")"
   ]
  },
  {
   "cell_type": "markdown",
   "id": "5c0b325e-7b0b-451a-beba-351f88f3d788",
   "metadata": {},
   "source": [
    "# Data Integration"
   ]
  },
  {
   "cell_type": "code",
   "execution_count": null,
   "id": "262f19b1-0d2b-4fc3-b0e7-85a4bc7490e7",
   "metadata": {},
   "outputs": [],
   "source": [
    "# Harmony"
   ]
  },
  {
   "cell_type": "code",
   "execution_count": null,
   "id": "cf6888a0-a0b2-48db-a965-3bcb4b0604fc",
   "metadata": {},
   "outputs": [],
   "source": [
    "sc.external.pp.harmony_integrate(adata, key='sample', \n",
    "                                 basis='X_pca', \n",
    "                                 adjusted_basis='X_harmony', \n",
    "                                 max_iter_harmony = 100)"
   ]
  },
  {
   "cell_type": "markdown",
   "id": "f27bd2eb-ec89-40d1-8302-9f4e5b18c83a",
   "metadata": {},
   "source": [
    "### BBKNN"
   ]
  },
  {
   "cell_type": "code",
   "execution_count": null,
   "id": "fe271e9e-b495-4761-a4e5-5eea05564965",
   "metadata": {},
   "outputs": [],
   "source": [
    "sc.external.pp.bbknn(adata, \n",
    "                     batch_key=var2int, \n",
    "                     copy=True)\n",
    "sc.tl.umap(adata)\n",
    "sc.pl.umap(adata, color=[\"sample\"])"
   ]
  },
  {
   "cell_type": "code",
   "execution_count": null,
   "id": "3a48d6be-10cc-4a93-bc3a-59e6991cd4ef",
   "metadata": {},
   "outputs": [],
   "source": [
    "import bbknn\n",
    "bbknn.bbknn(adata, batch_key='sample')\n",
    "sc.tl.umap(adata)\n",
    "sc.pl.umap(adata, color=['sample'])\n",
    "sc.tl.leiden(adata, resolution=0.1)\n",
    "\n",
    "# Repeat BBKNN integration using leiden as confounder key\n",
    "bbknn.ridge_regression(adata,\n",
    "                       batch_key=['samples_study_chemistry'], \n",
    "                       confounder_key=['leiden'])\n",
    "bbknn.bbknn(adata, batch_key='sample')"
   ]
  },
  {
   "cell_type": "markdown",
   "id": "a1888abf-ed59-4fb2-8e83-904d9eb3a389",
   "metadata": {},
   "source": [
    "### MNN"
   ]
  },
  {
   "cell_type": "code",
   "execution_count": null,
   "id": "069c675d-6835-4ec5-b947-ebf83c4e632b",
   "metadata": {},
   "outputs": [],
   "source": [
    "sc.external.pp.mnn_correct(adata, batch_key = var2int)"
   ]
  },
  {
   "cell_type": "markdown",
   "id": "27a60102-afc4-4200-ad30-0ab6e74fea41",
   "metadata": {},
   "source": [
    "### Scanorama"
   ]
  },
  {
   "cell_type": "code",
   "execution_count": null,
   "id": "c8e06461-163f-4572-be0e-deba8f63075c",
   "metadata": {},
   "outputs": [],
   "source": [
    "sc.external.pp.scanorama_integrate(adata, key = var2int)\n",
    "sc.pp.neighbors(adata, use_rep='X_scanorama')\n",
    "sc.tl.umap(adata)\n",
    "sc.pl.umap(adata, color=['sample'])"
   ]
  },
  {
   "cell_type": "markdown",
   "id": "db9451dc-65a6-4fb2-8c80-51f864c97449",
   "metadata": {},
   "source": [
    "### scVI"
   ]
  },
  {
   "cell_type": "code",
   "execution_count": null,
   "id": "c72ab225-6925-4f4a-8951-2ff039538aa6",
   "metadata": {},
   "outputs": [],
   "source": [
    "import scvi\n",
    "scvi.model.SCVI.setup_anndata(adata, layer=\"counts\", batch_key=var2int)\n",
    "scvi_model = scvi.model.SCVI(adata, n_layers=2, n_latent=30)\n",
    "scvi_model.train()\n",
    "SCVI_LATENT_KEY = \"X_scVI\"\n",
    "adata.obsm[SCVI_LATENT_KEY] = scvi_model.get_latent_representation()\n",
    "\n",
    "sc.pp.neighbors(adata, use_rep=SCVI_LATENT_KEY)\n",
    "sc.tl.umap(adata, min_dist=0.3)\n",
    "sc.pl.umap(\n",
    "    adata,\n",
    "    color=[\"tech\"],\n",
    "    frameon=False,\n",
    "    ncols=1,\n",
    ")"
   ]
  },
  {
   "cell_type": "markdown",
   "id": "412a6aa2-86a8-4bd0-92a4-57f19fbfc616",
   "metadata": {},
   "source": [
    "# Clustering"
   ]
  },
  {
   "cell_type": "markdown",
   "id": "2e9c833f-0558-401b-806e-89a76767c30a",
   "metadata": {},
   "source": [
    "`n_iterations`\n",
    "* Positive values above 2 define the total number of iterations to perform, \n",
    "* -1 has the algorithm run until it reaches its optimal clustering. \n",
    "* 2 is faster and the default for underlying packages."
   ]
  },
  {
   "cell_type": "code",
   "execution_count": null,
   "id": "28c6ed30-e270-4565-8621-21f9fe5ba745",
   "metadata": {},
   "outputs": [],
   "source": [
    "resolutions = np.arange(0.1, 1.1, 0.1)\n",
    "# Using the igraph implementation and a fixed number of iterations can be significantly faster, especially for larger datasets\n",
    "for r in resolutions:\n",
    "    sc.tl.leiden(adata, \n",
    "                 resolution=r, \n",
    "                 key_added=f'leiden_{r:.1f}')"
   ]
  },
  {
   "cell_type": "code",
   "execution_count": null,
   "id": "b7183d89-529c-4528-a529-6bd34d914bfd",
   "metadata": {},
   "outputs": [],
   "source": [
    "# Scanpy tutorial\n",
    "for res in [0.02, 0.5, 2.0]:\n",
    "    sc.tl.leiden(\n",
    "        adata, key_added=f\"leiden_res_{res:4.2f}\", \n",
    "        resolution=res, \n",
    "        flavor=\"igraph\"\n",
    "    )"
   ]
  },
  {
   "cell_type": "code",
   "execution_count": null,
   "id": "5be37746-9a84-4c4d-9f25-5fa6915d1ede",
   "metadata": {},
   "outputs": [],
   "source": [
    "## Louvain\n",
    "for r in resolutions:\n",
    "    sc.tl.leiden(adata, \n",
    "                 resolution=r, \n",
    "                 key_added=f'louvain_{r:.1f}')"
   ]
  },
  {
   "cell_type": "markdown",
   "id": "f98b1e60-cd52-4dd8-b605-fffeabe4ce53",
   "metadata": {},
   "source": [
    "# Differential Gene Expression as Markers"
   ]
  },
  {
   "cell_type": "code",
   "execution_count": null,
   "id": "ed27958a-dd3a-4798-87d7-1f080ce444e4",
   "metadata": {},
   "outputs": [],
   "source": [
    "chosen_res = ''\n",
    "# Obtain cluster-specific differentially expressed genes\n",
    "sc.tl.rank_genes_groups(adata, \n",
    "                        groupby=chosen_res, \n",
    "                        method=\"wilcoxon\")"
   ]
  },
  {
   "cell_type": "code",
   "execution_count": null,
   "id": "4c9e2eba-06a5-4142-b071-ef7f7da1e00e",
   "metadata": {},
   "outputs": [],
   "source": [
    "markers_df = sc.get.rank_genes_groups_df(adata, group=None) ## Group None for all clusters\n",
    "markers_df.head()"
   ]
  },
  {
   "cell_type": "code",
   "execution_count": null,
   "id": "1162e767-05e6-4f2f-bab9-6efffca99e32",
   "metadata": {},
   "outputs": [],
   "source": [
    "# Exporting markers\n",
    "markers_df.to_excel('markers.xlsx', index = False)"
   ]
  },
  {
   "cell_type": "code",
   "execution_count": null,
   "id": "20b130a3-a032-4e07-ae03-5be3fa7c146a",
   "metadata": {},
   "outputs": [],
   "source": [
    "# Extracting top n genes\n",
    "n = \n",
    "cluster = ''\n",
    "markers_df.loc[markers_df[\"group\"] == cluster, \"names\"].head(n)"
   ]
  },
  {
   "cell_type": "code",
   "execution_count": null,
   "id": "a8e95594-f603-43c5-872d-3df28259e407",
   "metadata": {},
   "outputs": [],
   "source": [
    "# Top n genes per cluster\n",
    "n = \n",
    "top50 = markers_df.groupby('group').apply(lambda x: x.nlargest(n, 'logfoldchanges')).reset_index(drop=True)\n",
    "top50"
   ]
  },
  {
   "cell_type": "markdown",
   "id": "ffe4a4d3-3b12-4ad0-9959-258d86edbbb8",
   "metadata": {},
   "source": [
    "# Plotting top marker genes"
   ]
  },
  {
   "cell_type": "code",
   "execution_count": null,
   "id": "5c9d8a1c-28cb-4908-b4e7-75a09307228b",
   "metadata": {},
   "outputs": [],
   "source": [
    "sc.pl.rank_genes_groups_dotplot(\n",
    "    adata, groupby=\"leiden_res_0.50\", standard_scale=\"var\", n_genes=10\n",
    ")"
   ]
  },
  {
   "cell_type": "code",
   "execution_count": null,
   "id": "fb9ccc06-2137-47e2-9d59-1036560c02f2",
   "metadata": {},
   "outputs": [],
   "source": [
    "marker_genes = ['', '', '', '']\n",
    "chosen_res = ''\n",
    "sc.pl.dotplot(adata, \n",
    "              marker_genes, \n",
    "              groupby=chosen_res, \n",
    "              standard_scale=\"var\")"
   ]
  },
  {
   "cell_type": "markdown",
   "id": "33525401-8149-431f-a5f0-e6feb66895b5",
   "metadata": {},
   "source": [
    "# Cluster annotation (1)"
   ]
  },
  {
   "cell_type": "code",
   "execution_count": null,
   "id": "0c8d6f48-e151-4144-be16-9308f49485ed",
   "metadata": {},
   "outputs": [],
   "source": [
    "adata.obs[\"cell_type\"] = adata.obs[\"leiden_res_0.02\"].map(\n",
    "    {\n",
    "        \"0\": \"celltype1\",\n",
    "        \"1\": \"celltype2\",\n",
    "        \"2\": \"\",\n",
    "        \"3\": \"\",\n",
    "    }\n",
    ")"
   ]
  },
  {
   "cell_type": "markdown",
   "id": "aa3374bd-6a4b-4bbd-bf8d-1cbe2d2033ee",
   "metadata": {},
   "source": [
    "# Cluster annotation (2)"
   ]
  },
  {
   "cell_type": "code",
   "execution_count": null,
   "id": "1d64b164-c5f0-4ab5-b672-9e9c21b91bdf",
   "metadata": {},
   "outputs": [],
   "source": [
    "new_names = {\n",
    "    '0': 'clus0', \n",
    "    '1': 'clus1', \n",
    "    '2': 'clus2', \n",
    "    '3': 'clus3',\n",
    "    '4': 'clus4',\n",
    "    '5': 'clus5',\n",
    "    '6': 'clus6'}\n",
    "\n",
    "adata.obs['annotation'] = adata.obs['leiden_0.3'].replace(new_names)"
   ]
  },
  {
   "cell_type": "markdown",
   "id": "e67cab3f-01f8-41a3-9ab6-2faf1b1eebe2",
   "metadata": {},
   "source": [
    "# Gene signature "
   ]
  },
  {
   "cell_type": "code",
   "execution_count": null,
   "id": "e77f038d-71b8-4473-a4b5-363787d46b1c",
   "metadata": {},
   "outputs": [],
   "source": [
    "# Reading Excel file\n",
    "df = pd.read_excel(\"file.xlsx\", sheet_name=0)\n",
    "df.head()\n",
    "\n",
    "gene_sets = {col: df[col].dropna().tolist() for col in df.columns}"
   ]
  },
  {
   "cell_type": "code",
   "execution_count": null,
   "id": "2972297b-9023-466f-8b73-cf3c3a45bbce",
   "metadata": {},
   "outputs": [],
   "source": [
    "for name, genes in gene_sets.items():\n",
    "    sc.tl.score_genes(\n",
    "        adata, \n",
    "        gene_list=genes, \n",
    "        score_name=f\"{name}_signature\"\n",
    "    )"
   ]
  },
  {
   "cell_type": "markdown",
   "id": "9472d2aa-d024-4ab4-9320-e3f066371d33",
   "metadata": {},
   "source": [
    "## Cluster subset (EXACT one)"
   ]
  },
  {
   "cell_type": "code",
   "execution_count": null,
   "id": "10945f47-c9a0-44be-b1ef-f1db5db2c8bb",
   "metadata": {},
   "outputs": [],
   "source": [
    "chosen_res = ''\n",
    "clusters = ['', '']\n",
    "# Subset data to subset cluster '11'\n",
    "adata = adata[adata.obs[chosen_res] == clusters].copy()"
   ]
  },
  {
   "cell_type": "markdown",
   "id": "56660fb0-033f-40de-9bec-5bdee4858c2b",
   "metadata": {},
   "source": [
    "## Cluster subset (Inclusion of many)"
   ]
  },
  {
   "cell_type": "code",
   "execution_count": null,
   "id": "6ea0c7d6-555d-43d4-beaa-c8a9d0664760",
   "metadata": {},
   "outputs": [],
   "source": [
    "adata_subset = adata[adata.obs[chosen_res].isin(['4', '6'])]\n",
    "adata_subset"
   ]
  },
  {
   "cell_type": "markdown",
   "id": "87180d29-e96f-44ac-bef6-c1f5e644c8be",
   "metadata": {},
   "source": [
    "## Cluster subset (Exclusion of one)"
   ]
  },
  {
   "cell_type": "code",
   "execution_count": null,
   "id": "4d3a1b6d-8ab1-4aed-82ba-f24125902082",
   "metadata": {},
   "outputs": [],
   "source": [
    "# Subset data to exclude cluster '11'\n",
    "\n",
    "adata_subset = adata[adata.obs['leiden_0.3'] != '11'].copy()"
   ]
  },
  {
   "cell_type": "markdown",
   "id": "cfc2328d-a1cf-4734-aae9-aaeb33143158",
   "metadata": {},
   "source": [
    "## Cluster subset (Exclusion of many)"
   ]
  },
  {
   "cell_type": "code",
   "execution_count": null,
   "id": "93c4adae-cfb0-480f-8dbc-6828ce7fa450",
   "metadata": {},
   "outputs": [],
   "source": [
    "adata_subset = adata[~adata.obs[chosen_res].isin(['4', '6'])]\n",
    "adata_subset"
   ]
  }
 ],
 "metadata": {
  "kernelspec": {
   "display_name": "Python 3 (ipykernel)",
   "language": "python",
   "name": "python3"
  },
  "language_info": {
   "codemirror_mode": {
    "name": "ipython",
    "version": 3
   },
   "file_extension": ".py",
   "mimetype": "text/x-python",
   "name": "python",
   "nbconvert_exporter": "python",
   "pygments_lexer": "ipython3",
   "version": "3.12.4"
  }
 },
 "nbformat": 4,
 "nbformat_minor": 5
}
